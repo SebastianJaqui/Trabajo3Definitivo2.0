{
 "cells": [
  {
   "cell_type": "code",
   "execution_count": 1,
   "metadata": {},
   "outputs": [],
   "source": [
    "# Cargando BeautifulSoap\n",
    "from bs4 import BeautifulSoup"
   ]
  },
  {
   "cell_type": "markdown",
   "metadata": {},
   "source": [
    "A continuación vamos a abrir un documento html para poder analizarlo con beautifulsoap.\n",
    "Lo haremos puntualmente para nuestra propia pagima que creamos anteriormente \n",
    "\n",
    "\"El diario de Jaqui\""
   ]
  },
  {
   "cell_type": "code",
   "execution_count": null,
   "metadata": {},
   "outputs": [],
   "source": [
    "# Abriendo el archivo index.html\n",
    "\n"
   ]
  }
 ],
 "metadata": {
  "kernelspec": {
   "display_name": "Python 3.10.8 64-bit (microsoft store)",
   "language": "python",
   "name": "python3"
  },
  "language_info": {
   "codemirror_mode": {
    "name": "ipython",
    "version": 3
   },
   "file_extension": ".py",
   "mimetype": "text/x-python",
   "name": "python",
   "nbconvert_exporter": "python",
   "pygments_lexer": "ipython3",
   "version": "3.10.8"
  },
  "orig_nbformat": 4,
  "vscode": {
   "interpreter": {
    "hash": "b1dfde239df90816e6a165c4fc4a7cd53922a4cba0452fa8fe0a94302f37a6b0"
   }
  }
 },
 "nbformat": 4,
 "nbformat_minor": 2
}
